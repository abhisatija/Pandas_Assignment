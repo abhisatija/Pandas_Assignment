{
 "cells": [
  {
   "cell_type": "markdown",
   "id": "73d14438-9cfe-4f31-812d-d1dc6b0389f6",
   "metadata": {},
   "source": [
    "### 1) Create a series of three different colors"
   ]
  },
  {
   "cell_type": "code",
   "execution_count": 2,
   "id": "3d99034e-5b06-45f5-b86a-6dfd14cf2bd0",
   "metadata": {},
   "outputs": [
    {
     "name": "stdout",
     "output_type": "stream",
     "text": [
      "0      Red\n",
      "1    Green\n",
      "2     Blue\n",
      "dtype: object\n"
     ]
    }
   ],
   "source": [
    "import numpy as np\n",
    "import pandas as pd\n",
    "\n",
    "colors = pd.Series([\"Red\", \"Green\", \"Blue\"])\n",
    "print(colors)"
   ]
  },
  {
   "cell_type": "markdown",
   "id": "5730fc28-51bc-4e52-bddc-f378dddd33d6",
   "metadata": {},
   "source": [
    "### 2) View the series of different colors"
   ]
  },
  {
   "cell_type": "code",
   "execution_count": 3,
   "id": "a8bbf476-21d1-4cef-a8af-7342c9caf669",
   "metadata": {},
   "outputs": [
    {
     "name": "stdout",
     "output_type": "stream",
     "text": [
      "0      Red\n",
      "1    Green\n",
      "2     Blue\n",
      "dtype: object\n"
     ]
    }
   ],
   "source": [
    "print(colors)"
   ]
  },
  {
   "cell_type": "markdown",
   "id": "cec5b8ec-08a4-4c01-be5e-0fe882a93704",
   "metadata": {},
   "source": [
    "### 3) Create a series of three different car types and view it"
   ]
  },
  {
   "cell_type": "code",
   "execution_count": 4,
   "id": "24d68d3a-b443-4676-a9d1-f589f97dcf2e",
   "metadata": {},
   "outputs": [
    {
     "name": "stdout",
     "output_type": "stream",
     "text": [
      "0    Sedan\n",
      "1    Truck\n",
      "2      SUV\n",
      "dtype: object\n"
     ]
    }
   ],
   "source": [
    "cartype = pd.Series([\"Sedan\", \"Truck\", \"SUV\"])\n",
    "print(cartype)"
   ]
  },
  {
   "cell_type": "markdown",
   "id": "bdaad5cf-be51-498d-a5c3-2cbd1431d439",
   "metadata": {},
   "source": [
    "### 4) Combine the Series of cars and colors into a Data Frame"
   ]
  },
  {
   "cell_type": "code",
   "execution_count": 6,
   "id": "283ca81f-8f64-486e-81af-15742787e3ec",
   "metadata": {},
   "outputs": [
    {
     "name": "stdout",
     "output_type": "stream",
     "text": [
      "  Car Type  Color\n",
      "0    Sedan    Red\n",
      "1    Truck  Green\n",
      "2      SUV   Blue\n"
     ]
    }
   ],
   "source": [
    "car_df = pd.DataFrame({\n",
    "    \"Car Type\": cartype,\n",
    "    \"Color\": colors})\n",
    "print(car_df)"
   ]
  },
  {
   "cell_type": "markdown",
   "id": "969318c3-9065-422d-94ce-19d0e9fb79f1",
   "metadata": {},
   "source": [
    "### 5) Find the different datatypes of the car data Data Frame"
   ]
  },
  {
   "cell_type": "code",
   "execution_count": 9,
   "id": "de6f3547-ec66-4a67-b6b4-1f0c2fa7174b",
   "metadata": {},
   "outputs": [
    {
     "name": "stdout",
     "output_type": "stream",
     "text": [
      "Car Type    object\n",
      "Color       object\n",
      "dtype: object\n"
     ]
    }
   ],
   "source": [
    "datatype = car_df.dtypes\n",
    "print(datatype)"
   ]
  },
  {
   "cell_type": "markdown",
   "id": "5f3575ef-5480-45b2-bd50-91a7466215d5",
   "metadata": {},
   "source": [
    "### 6) Describe your current car sales Data Frame using describe ()"
   ]
  },
  {
   "cell_type": "code",
   "execution_count": 10,
   "id": "0aa56787-e3c4-4962-a3a8-f8d5faedb0ef",
   "metadata": {},
   "outputs": [
    {
     "name": "stdout",
     "output_type": "stream",
     "text": [
      "       Car Type Color\n",
      "count         3     3\n",
      "unique        3     3\n",
      "top       Sedan   Red\n",
      "freq          1     1\n"
     ]
    }
   ],
   "source": [
    "description = car_df.describe()\n",
    "print(description)"
   ]
  },
  {
   "cell_type": "markdown",
   "id": "aa953b11-67ff-4311-a0c7-766a5a6374b1",
   "metadata": {},
   "source": [
    "### 7) Get information about your Data Frame using info ()"
   ]
  },
  {
   "cell_type": "code",
   "execution_count": 12,
   "id": "f8da8ca5-0dde-49f5-bdea-1aad62e6fbd0",
   "metadata": {},
   "outputs": [
    {
     "name": "stdout",
     "output_type": "stream",
     "text": [
      "<class 'pandas.core.frame.DataFrame'>\n",
      "RangeIndex: 3 entries, 0 to 2\n",
      "Data columns (total 2 columns):\n",
      " #   Column    Non-Null Count  Dtype \n",
      "---  ------    --------------  ----- \n",
      " 0   Car Type  3 non-null      object\n",
      " 1   Color     3 non-null      object\n",
      "dtypes: object(2)\n",
      "memory usage: 180.0+ bytes\n",
      "None\n"
     ]
    }
   ],
   "source": [
    "information = car_df.info()\n",
    "print(information)"
   ]
  },
  {
   "cell_type": "markdown",
   "id": "3619f977-2ab6-4e21-8fb0-68ff46963b2d",
   "metadata": {},
   "source": [
    "### 8) Create a Series of different numbers and find the mean of them"
   ]
  },
  {
   "cell_type": "code",
   "execution_count": 17,
   "id": "c022477c-9d54-43da-849d-f824a58b2b25",
   "metadata": {},
   "outputs": [
    {
     "name": "stdout",
     "output_type": "stream",
     "text": [
      "0     2\n",
      "1     3\n",
      "2     4\n",
      "3     5\n",
      "4     2\n",
      "5     1\n",
      "6    88\n",
      "dtype: int64\n",
      "\n",
      "Mean of the number is: 15.0\n"
     ]
    }
   ],
   "source": [
    "series = pd.Series([2,3,4,5,2,1,88])\n",
    "print(series)\n",
    "\n",
    "mean = series.mean()\n",
    "print(\"\\nMean of the number is:\", mean)"
   ]
  },
  {
   "cell_type": "markdown",
   "id": "ae42b950-c089-45a0-a71b-050e2407c583",
   "metadata": {},
   "source": [
    "### 9) Create a Series of different numbers and find the sum of them"
   ]
  },
  {
   "cell_type": "code",
   "execution_count": 18,
   "id": "3cfb7089-076e-418c-97e5-79f0469b7eb0",
   "metadata": {},
   "outputs": [
    {
     "name": "stdout",
     "output_type": "stream",
     "text": [
      "0     3\n",
      "1     5\n",
      "2     7\n",
      "3     3\n",
      "4     3\n",
      "5     6\n",
      "6    10\n",
      "dtype: int64\n",
      "\n",
      "Sum of numbers is: 37\n"
     ]
    }
   ],
   "source": [
    "series1 = pd.Series([3,5,7,3,3,6,10])\n",
    "print(series1)\n",
    "\n",
    "sum = series1.sum()\n",
    "print(\"\\nSum of numbers is:\", sum)"
   ]
  },
  {
   "cell_type": "markdown",
   "id": "e90f71ab-f14c-49d6-a602-09f51f8fb45a",
   "metadata": {},
   "source": [
    "### 10) List out all the column names of the car sales Data Frame"
   ]
  },
  {
   "cell_type": "code",
   "execution_count": 21,
   "id": "333a1a81-4a56-44b0-9a88-7d5d1177ae54",
   "metadata": {},
   "outputs": [
    {
     "name": "stdout",
     "output_type": "stream",
     "text": [
      "['Car Type', 'Color']\n"
     ]
    }
   ],
   "source": [
    "columns = car_df.columns.to_list()\n",
    "print(columns)"
   ]
  },
  {
   "cell_type": "markdown",
   "id": "a897030f-32ec-4a2e-b0ae-869a5ae82688",
   "metadata": {},
   "source": [
    "### 11) Find the length of the car sales Data Frame"
   ]
  },
  {
   "cell_type": "code",
   "execution_count": 25,
   "id": "8db829e6-5378-4d6c-b031-fa7ec4504a34",
   "metadata": {},
   "outputs": [
    {
     "name": "stdout",
     "output_type": "stream",
     "text": [
      "3\n",
      "3\n"
     ]
    }
   ],
   "source": [
    "length = len(car_df)\n",
    "print(length)\n",
    "\n",
    "# Another way with Shape\n",
    "\n",
    "len = df.shape[0]\n",
    "print(len)"
   ]
  },
  {
   "cell_type": "markdown",
   "id": "31264ada-ae54-43c1-9e48-85f929ceaf79",
   "metadata": {},
   "source": [
    "### 12) Show the first 5 rows of the car sales Data Frame"
   ]
  },
  {
   "cell_type": "code",
   "execution_count": 26,
   "id": "fbeb47bf-fd28-468d-bd7f-dd397a7297dc",
   "metadata": {},
   "outputs": [
    {
     "data": {
      "text/html": [
       "<div>\n",
       "<style scoped>\n",
       "    .dataframe tbody tr th:only-of-type {\n",
       "        vertical-align: middle;\n",
       "    }\n",
       "\n",
       "    .dataframe tbody tr th {\n",
       "        vertical-align: top;\n",
       "    }\n",
       "\n",
       "    .dataframe thead th {\n",
       "        text-align: right;\n",
       "    }\n",
       "</style>\n",
       "<table border=\"1\" class=\"dataframe\">\n",
       "  <thead>\n",
       "    <tr style=\"text-align: right;\">\n",
       "      <th></th>\n",
       "      <th>Car Type</th>\n",
       "      <th>Color</th>\n",
       "    </tr>\n",
       "  </thead>\n",
       "  <tbody>\n",
       "    <tr>\n",
       "      <th>0</th>\n",
       "      <td>Sedan</td>\n",
       "      <td>Red</td>\n",
       "    </tr>\n",
       "    <tr>\n",
       "      <th>1</th>\n",
       "      <td>Truck</td>\n",
       "      <td>Green</td>\n",
       "    </tr>\n",
       "    <tr>\n",
       "      <th>2</th>\n",
       "      <td>SUV</td>\n",
       "      <td>Blue</td>\n",
       "    </tr>\n",
       "  </tbody>\n",
       "</table>\n",
       "</div>"
      ],
      "text/plain": [
       "  Car Type  Color\n",
       "0    Sedan    Red\n",
       "1    Truck  Green\n",
       "2      SUV   Blue"
      ]
     },
     "execution_count": 26,
     "metadata": {},
     "output_type": "execute_result"
    }
   ],
   "source": [
    "car_df.head()"
   ]
  },
  {
   "cell_type": "markdown",
   "id": "67cc42c5-83d9-439d-a993-ed17b35d83bb",
   "metadata": {},
   "source": [
    "### 13) Show the first 7 rows of the car sales Data Frame"
   ]
  },
  {
   "cell_type": "code",
   "execution_count": 27,
   "id": "461699b5-5f8d-4a94-9c73-7c532d3c173b",
   "metadata": {},
   "outputs": [
    {
     "data": {
      "text/html": [
       "<div>\n",
       "<style scoped>\n",
       "    .dataframe tbody tr th:only-of-type {\n",
       "        vertical-align: middle;\n",
       "    }\n",
       "\n",
       "    .dataframe tbody tr th {\n",
       "        vertical-align: top;\n",
       "    }\n",
       "\n",
       "    .dataframe thead th {\n",
       "        text-align: right;\n",
       "    }\n",
       "</style>\n",
       "<table border=\"1\" class=\"dataframe\">\n",
       "  <thead>\n",
       "    <tr style=\"text-align: right;\">\n",
       "      <th></th>\n",
       "      <th>Car Type</th>\n",
       "      <th>Color</th>\n",
       "    </tr>\n",
       "  </thead>\n",
       "  <tbody>\n",
       "    <tr>\n",
       "      <th>0</th>\n",
       "      <td>Sedan</td>\n",
       "      <td>Red</td>\n",
       "    </tr>\n",
       "    <tr>\n",
       "      <th>1</th>\n",
       "      <td>Truck</td>\n",
       "      <td>Green</td>\n",
       "    </tr>\n",
       "    <tr>\n",
       "      <th>2</th>\n",
       "      <td>SUV</td>\n",
       "      <td>Blue</td>\n",
       "    </tr>\n",
       "  </tbody>\n",
       "</table>\n",
       "</div>"
      ],
      "text/plain": [
       "  Car Type  Color\n",
       "0    Sedan    Red\n",
       "1    Truck  Green\n",
       "2      SUV   Blue"
      ]
     },
     "execution_count": 27,
     "metadata": {},
     "output_type": "execute_result"
    }
   ],
   "source": [
    "car_df.head(7)"
   ]
  },
  {
   "cell_type": "markdown",
   "id": "e4a2dc5f-ec8f-472d-9935-f683f9994a70",
   "metadata": {},
   "source": [
    "### 14) Show the bottom 5 rows of the car sales Data Frame"
   ]
  },
  {
   "cell_type": "code",
   "execution_count": 28,
   "id": "3d831cb5-7bcd-4733-b835-f4c77e634210",
   "metadata": {},
   "outputs": [
    {
     "data": {
      "text/html": [
       "<div>\n",
       "<style scoped>\n",
       "    .dataframe tbody tr th:only-of-type {\n",
       "        vertical-align: middle;\n",
       "    }\n",
       "\n",
       "    .dataframe tbody tr th {\n",
       "        vertical-align: top;\n",
       "    }\n",
       "\n",
       "    .dataframe thead th {\n",
       "        text-align: right;\n",
       "    }\n",
       "</style>\n",
       "<table border=\"1\" class=\"dataframe\">\n",
       "  <thead>\n",
       "    <tr style=\"text-align: right;\">\n",
       "      <th></th>\n",
       "      <th>Car Type</th>\n",
       "      <th>Color</th>\n",
       "    </tr>\n",
       "  </thead>\n",
       "  <tbody>\n",
       "    <tr>\n",
       "      <th>0</th>\n",
       "      <td>Sedan</td>\n",
       "      <td>Red</td>\n",
       "    </tr>\n",
       "    <tr>\n",
       "      <th>1</th>\n",
       "      <td>Truck</td>\n",
       "      <td>Green</td>\n",
       "    </tr>\n",
       "    <tr>\n",
       "      <th>2</th>\n",
       "      <td>SUV</td>\n",
       "      <td>Blue</td>\n",
       "    </tr>\n",
       "  </tbody>\n",
       "</table>\n",
       "</div>"
      ],
      "text/plain": [
       "  Car Type  Color\n",
       "0    Sedan    Red\n",
       "1    Truck  Green\n",
       "2      SUV   Blue"
      ]
     },
     "execution_count": 28,
     "metadata": {},
     "output_type": "execute_result"
    }
   ],
   "source": [
    "car_df.tail()"
   ]
  },
  {
   "cell_type": "markdown",
   "id": "0799d186-dc22-4b3f-80d4-d5ebdad112a5",
   "metadata": {},
   "source": [
    "### 15) Use. loc to select the row at index 3 of the car sales Data Frame"
   ]
  },
  {
   "cell_type": "code",
   "execution_count": 40,
   "id": "ff09ba96-e23b-4638-96dd-25a2f55ad134",
   "metadata": {},
   "outputs": [
    {
     "name": "stdout",
     "output_type": "stream",
     "text": [
      "There is now value at row 3\n"
     ]
    }
   ],
   "source": [
    "try:\n",
    "    print(car_df.loc[3])\n",
    "\n",
    "except KeyError:\n",
    "    print(\"There is now value at row 3\")"
   ]
  },
  {
   "cell_type": "markdown",
   "id": "f59a7853-842d-40b3-8207-ec82407b4c27",
   "metadata": {},
   "source": [
    "### 16) Use. iloc to select the row at position 3 of the car sales Data Frame"
   ]
  },
  {
   "cell_type": "code",
   "execution_count": 41,
   "id": "7c2653a6-fcb9-48b0-8c42-ea153ba4c182",
   "metadata": {},
   "outputs": [
    {
     "name": "stdout",
     "output_type": "stream",
     "text": [
      "There is now value at row 3\n"
     ]
    }
   ],
   "source": [
    "try:\n",
    "    print(car_df.iloc[3])\n",
    "\n",
    "except IndexError:\n",
    "    print(\"There is now value at row 3\")"
   ]
  },
  {
   "cell_type": "markdown",
   "id": "6b66de95-f053-4f33-9e3a-ece6bc8125bb",
   "metadata": {},
   "source": [
    "### 17) Create a crosstab of the Make and Doors columns."
   ]
  },
  {
   "cell_type": "code",
   "execution_count": 46,
   "id": "895e21c4-ca17-4742-aaf5-fdb1cea24dc5",
   "metadata": {},
   "outputs": [
    {
     "name": "stdout",
     "output_type": "stream",
     "text": [
      "     Make  Doors\n",
      "0  Toyota      4\n",
      "1   Honda      4\n",
      "2    Ford      2\n",
      "3  Toyota      4\n",
      "4    Ford      2\n",
      "5   Honda      4\n",
      "6  Toyota      4\n",
      "\n",
      "Crosstab for the DataFrame will be:\n",
      " Doors   2  4\n",
      "Make        \n",
      "Ford    2  0\n",
      "Honda   0  2\n",
      "Toyota  0  3\n"
     ]
    }
   ],
   "source": [
    "# Creating DataFrame of Make and Doors\n",
    "data = {\n",
    "    \"Make\": ['Toyota', 'Honda', 'Ford', 'Toyota', 'Ford', 'Honda', 'Toyota'],\n",
    "    \"Doors\": [4, 4, 2, 4, 2, 4, 4]\n",
    "}\n",
    "\n",
    "df = pd.DataFrame(data)\n",
    "print(df)\n",
    "\n",
    "# Creating Crosstab\n",
    "crosstab = pd.crosstab(df[\"Make\"], df[\"Doors\"])\n",
    "print(\"\\nCrosstab for the DataFrame will be:\\n\", crosstab)"
   ]
  }
 ],
 "metadata": {
  "kernelspec": {
   "display_name": "Python 3 (ipykernel)",
   "language": "python",
   "name": "python3"
  },
  "language_info": {
   "codemirror_mode": {
    "name": "ipython",
    "version": 3
   },
   "file_extension": ".py",
   "mimetype": "text/x-python",
   "name": "python",
   "nbconvert_exporter": "python",
   "pygments_lexer": "ipython3",
   "version": "3.12.4"
  }
 },
 "nbformat": 4,
 "nbformat_minor": 5
}
